{
  "cells": [
    {
      "cell_type": "markdown",
      "metadata": {
        "id": "k_l0s67Xzblu"
      },
      "source": [
        "# Recursión"
      ]
    },
    {
      "cell_type": "markdown",
      "metadata": {
        "id": "10yJfftXzblw"
      },
      "source": [
        "## ¿Qué es la recursión?\n",
        "\n",
        "La recursión es un concepto en programación en el cual una función se llama a sí misma para resolver un problema. Es similar a una estructura de bucle, pero en lugar de repetir un bloque de código, la función se divide en tareas más pequeñas y se resuelve a través de llamadas recursivas.\n",
        "\n",
        "La recursión es especialmente útil para abordar problemas que pueden descomponerse en subproblemas más simples y similares. A menudo, se utiliza en algoritmos que siguen la idea de \"divide y vencerás\"."
      ]
    },
    {
      "cell_type": "markdown",
      "metadata": {
        "id": "y-RFR7rKzblx"
      },
      "source": [
        "## Elementos de una función recursiva\n",
        "\n",
        "* **Caso Base:** Es el punto de terminación de la recursión. Define la condición en la que la función deja de llamarse a sí misma y comienza a regresar resultados.\n",
        "\n",
        "* **Caso Recursivo:** Es la parte de la función en la que se realiza la llamada a sí misma, generalmente con argumentos diferentes para resolver un subproblema más pequeño."
      ]
    },
    {
      "cell_type": "markdown",
      "metadata": {
        "id": "3QUvbHLyzblx"
      },
      "source": [
        "## Ejemplo de una función recursiva"
      ]
    },
    {
      "cell_type": "markdown",
      "metadata": {
        "id": "cmTD_GRnzblx"
      },
      "source": [
        "### Función factorial"
      ]
    },
    {
      "cell_type": "markdown",
      "metadata": {
        "id": "cgZF-uaxzbly"
      },
      "source": [
        "Un ejemplo clásico de uso de la recursión es el cálculo del factorial de un número. El factorial de un número entero positivo `n` se define como el producto de todos los números enteros positivos desde 1 hasta `n`.\n",
        "\n",
        "Por ejemplo, el factorial de 5 se calcula como:\n",
        "\n",
        "```python\n",
        "5! = 5 * 4!\n",
        "   = 5 * 4 * 3!\n",
        "   = 5 * 4 * 3 * 2!\n",
        "   = 5 * 4 * 3 * 2 * 1!\n",
        "   = 5 * 4 * 3 * 2 * 1 * 0!\n",
        "   = 5 * 4 * 3 * 2 * 1 * 1\n",
        "   = 5 * 4 * 3 * 2 * 1\n",
        "   = 5 * 4 * 3 * 2\n",
        "   = 5 * 4 * 6\n",
        "   = 5 * 24\n",
        "   = 120\n",
        "```\n",
        "\n",
        "La función factorial se puede definir de la siguiente manera:\n",
        "\n",
        "```python\n",
        "def factorial(n):\n",
        "    # Caso base\n",
        "    if n == 0:\n",
        "        return 1\n",
        "    # Caso recursivo\n",
        "    else:\n",
        "        return n * factorial(n - 1)\n",
        "```\n",
        "\n",
        "En este ejemplo, el caso base es cuando `n` es `0` o `1`, en cuyo caso el factorial es `1`. En el caso recursivo, la función se llama a sí misma con `n - 1` y se multiplica por `n`. Esto continúa hasta que `n` es `0` o `1`, momento en el que la función comienza a regresar resultados."
      ]
    },
    {
      "cell_type": "code",
      "execution_count": null,
      "metadata": {
        "colab": {
          "base_uri": "https://localhost:8080/"
        },
        "id": "_ZPHd4IGzbly",
        "outputId": "c6b143a1-c34d-4b77-8350-b311eb48788b"
      },
      "outputs": [
        {
          "output_type": "execute_result",
          "data": {
            "text/plain": [
              "120"
            ]
          },
          "metadata": {},
          "execution_count": 1
        }
      ],
      "source": [
        "def factorial(n):\n",
        "    # Caso base\n",
        "    if n == 0:\n",
        "        return 1\n",
        "    # Caso recursivo\n",
        "    else:\n",
        "        return n * factorial(n - 1)\n",
        "\n",
        "factorial(5)"
      ]
    },
    {
      "cell_type": "code",
      "execution_count": null,
      "metadata": {
        "colab": {
          "base_uri": "https://localhost:8080/"
        },
        "id": "OqXdbi17zbl5",
        "outputId": "72e4bf76-5ac5-460e-90ea-ddb14a672086"
      },
      "outputs": [
        {
          "output_type": "stream",
          "name": "stdout",
          "text": [
            "factorial(5) = 5 * 4! | 5 * factorial(4)\n",
            "factorial(4) = 4 * 3! | 4 * factorial(3)\n",
            "factorial(3) = 3 * 2! | 3 * factorial(2)\n",
            "factorial(2) = 2 * 1! | 2 * factorial(1)\n",
            "factorial(1) = 1 * 0! | 1 * factorial(0)\n",
            "factorial(0) = Caso base: 0! = 1\n"
          ]
        },
        {
          "output_type": "execute_result",
          "data": {
            "text/plain": [
              "120"
            ]
          },
          "metadata": {},
          "execution_count": 2
        }
      ],
      "source": [
        "def factorial_visual(n):\n",
        "    print(f'factorial({n}) = ', end='')\n",
        "    # Caso base\n",
        "    if n == 0:\n",
        "        print(f'Caso base: {n}! = 1')\n",
        "        return 1\n",
        "    # Caso recursivo\n",
        "    else:\n",
        "        print(f'{n} * {n-1}! | {n} * factorial({n - 1})')\n",
        "        return n * factorial_visual(n - 1)\n",
        "\n",
        "factorial_visual(5)"
      ]
    },
    {
      "cell_type": "markdown",
      "metadata": {
        "id": "8cFHrusLzbl6"
      },
      "source": [
        "### Función Sumatoria"
      ]
    },
    {
      "cell_type": "markdown",
      "metadata": {
        "id": "OEVwUtx_zbl8"
      },
      "source": [
        "Otro ejemplo es el cálculo de la suma de los primeros `n` números enteros positivos.\n",
        "\n",
        "Por ejemplo, la suma de los primeros 5 números enteros positivos se calcula como:\n",
        "\n",
        "$$\\sum_{n=1}^5 i = 1 + 2 + 3 + 4 + 5 = 15$$\n",
        "\n",
        "$$\n",
        "\\sum_{n=1}^5 i = 1 + \\sum_{n=2}^5 i \\newline\n",
        "\\sum_{n=1}^5 i = 1 + 2 + \\sum_{n=3}^5 i \\newline\n",
        "\\sum_{n=1}^5 i = 1 + 2 + 3 + \\sum_{n=4}^5 i \\newline\n",
        "\\sum_{n=1}^5 i = 1 + 2 + 3 + 4 + \\sum_{n=5}^5 i \\newline\n",
        "\\sum_{n=1}^5 i = 1 + 2 + 3 + 4 + 5 \\newline\n",
        "\\sum_{n=1}^5 i = 1 + 2 + 3 + 9 \\newline\n",
        "\\sum_{n=1}^5 i = 1 + 2 + 12 \\newline\n",
        "\\sum_{n=1}^5 i = 1 + 14 \\newline\n",
        "\\sum_{n=1}^5 i = 15 \\newline\n",
        "$$\n",
        "\n",
        "La función sumatoria se puede definir de la siguiente manera:\n",
        "\n",
        "```python\n",
        "def sumatoria(n):\n",
        "    # Caso base\n",
        "    if n == 1:\n",
        "        return 1\n",
        "    # Caso recursivo\n",
        "    else:\n",
        "        return n + sumatoria(n - 1)\n",
        "```"
      ]
    },
    {
      "cell_type": "code",
      "execution_count": 1,
      "metadata": {
        "colab": {
          "base_uri": "https://localhost:8080/"
        },
        "id": "QZxzBuZOzbl8",
        "outputId": "b898f186-f861-4d1c-8318-353c640bcdff"
      },
      "outputs": [
        {
          "output_type": "execute_result",
          "data": {
            "text/plain": [
              "10"
            ]
          },
          "metadata": {},
          "execution_count": 1
        }
      ],
      "source": [
        "def sumatoria(n):\n",
        "    # Caso base\n",
        "    if n == 1:\n",
        "        return 1\n",
        "    # Caso recursivo\n",
        "    else:\n",
        "        return n + sumatoria(n - 1)\n",
        "\n",
        "sumatoria(4)"
      ]
    },
    {
      "cell_type": "code",
      "execution_count": null,
      "metadata": {
        "colab": {
          "base_uri": "https://localhost:8080/"
        },
        "id": "kONxdqZazbl9",
        "outputId": "8f798568-0c81-41df-eaf8-52cb39f0be49"
      },
      "outputs": [
        {
          "output_type": "stream",
          "name": "stdout",
          "text": [
            "sumatoria(5) = 5 + sumatoria(4)\n",
            "sumatoria(4) = 4 + sumatoria(3)\n",
            "sumatoria(3) = 3 + sumatoria(2)\n",
            "sumatoria(2) = 2 + sumatoria(1)\n",
            "sumatoria(1) = Caso base: 1 = 1\n"
          ]
        },
        {
          "output_type": "execute_result",
          "data": {
            "text/plain": [
              "15"
            ]
          },
          "metadata": {},
          "execution_count": 4
        }
      ],
      "source": [
        "def sumatoria_visual(n):\n",
        "    print(f'sumatoria({n}) = ', end='')\n",
        "    # Caso base\n",
        "    if n == 1:\n",
        "        print(f'Caso base: {n} = 1')\n",
        "        return 1\n",
        "    # Caso recursivo\n",
        "    else:\n",
        "        print(f'{n} + sumatoria({n - 1})')\n",
        "        return n + sumatoria_visual(n - 1)\n",
        "\n",
        "sumatoria_visual(5)"
      ]
    },
    {
      "cell_type": "markdown",
      "metadata": {
        "id": "r_Yh76qZzbl9"
      },
      "source": [
        "## Ejercicios"
      ]
    },
    {
      "cell_type": "markdown",
      "source": [
        "# Nueva sección"
      ],
      "metadata": {
        "id": "AqatUYuy0cw2"
      }
    },
    {
      "cell_type": "markdown",
      "metadata": {
        "id": "zVbrcbjGzbl9"
      },
      "source": [
        "### Ejercicio 1: Función potencia\n",
        "\n",
        "Escribe una función recursiva que calcule la potencia de un número entero positivo `x` elevado a un número entero positivo `y`.\n",
        "\n",
        "Por ejemplo, la potencia de 2 elevado a 3 se calcula como:\n",
        "\n",
        "$$2^3 = 2 * 2^2 = 2 * 2 * 2^1 = 2 * 2 * 2 * 2^0 = 2 * 2 * 2 * 1 = 8$$"
      ]
    },
    {
      "cell_type": "code",
      "execution_count": null,
      "metadata": {
        "id": "RJ-Pzt4Tzbl9",
        "colab": {
          "base_uri": "https://localhost:8080/"
        },
        "outputId": "46e50a29-2789-4d4c-9cb9-2b04ed8ce4bf"
      },
      "outputs": [
        {
          "output_type": "execute_result",
          "data": {
            "text/plain": [
              "8"
            ]
          },
          "metadata": {},
          "execution_count": 19
        }
      ],
      "source": [
        "def funcion_potencial(n,m):\n",
        "  # Caso base\n",
        "  if m==1:\n",
        "    return n\n",
        "  # Caso recursivo\n",
        "  else:\n",
        "    return n * funcion_potencial(n,m-1)\n",
        "\n",
        "funcion_potencial(2,3)\n"
      ]
    },
    {
      "cell_type": "markdown",
      "metadata": {
        "id": "5J-GDMYEzbl9"
      },
      "source": [
        "### Ejericio 2: Función Fibonacci\n",
        "\n",
        "Escribe una función recursiva que calcule el n-ésimo término de la secuencia de Fibonacci.\n",
        "\n",
        "La secuencia de Fibonacci se define como:\n",
        "\n",
        "$$\n",
        "F(n) = \\begin{cases}\n",
        "            1 & \\text{si } n = 0 \\text{ ó } 1\\\\\n",
        "            F(n - 1) + F(n - 2) & \\text{si } n > 1\n",
        "        \\end{cases}\n",
        "$$\n",
        "\n",
        "\n",
        "Por ejemplo, el 5-ésimo término de la secuencia de Fibonacci se calcula como:\n",
        "\n",
        "```python\n",
        "F(5) =                           F(4)                   +           F(3)\n",
        "F(5) =             (F(3)           +         F(2))      +     (F(2)      + F(1))\n",
        "F(5) =      ((F(2)     + F(1))     +     (F(1) + F(0))) + ((F(1) + F(0)) + F(1))\n",
        "F(5) = (((F(1) + F(0)) + F(1))     +     (F(1) + F(0))) + ((F(1) + F(0)) + F(1))\n",
        "F(5) = ((  1   +   1 ) +   1)      +     (( 1  +   1)   +  ((1   +   1)  +   1))\n",
        "F(5) = ((      2     ) +   1)      +     ((   2     )   +  ((    2    )  +   1))\n",
        "F(5) = (             3      )      +     ((   2     )   +  (         3        ))\n",
        "F(5) = (                           5                    +            3         )\n",
        "F(5) = 8\n",
        "```"
      ]
    },
    {
      "cell_type": "code",
      "execution_count": 5,
      "metadata": {
        "id": "6XsxlEgezbl-",
        "colab": {
          "base_uri": "https://localhost:8080/"
        },
        "outputId": "be9d30f4-81cd-4dbc-9758-7d72bd6525b7"
      },
      "outputs": [
        {
          "output_type": "execute_result",
          "data": {
            "text/plain": [
              "8"
            ]
          },
          "metadata": {},
          "execution_count": 5
        }
      ],
      "source": [
        "def fi(n):\n",
        "  # Caso base\n",
        "  if n==1 or n==0:\n",
        "     return 1\n",
        "  # Caso recursivo\n",
        "  else:\n",
        "     return fi(n-1)+fi(n-2)\n",
        "\n",
        "fi(5)\n"
      ]
    },
    {
      "cell_type": "markdown",
      "metadata": {
        "id": "YMNttJmSzbl-"
      },
      "source": [
        "### Ejercicio 3: Función de Ackermann\n",
        "\n",
        "Escribe una función recursiva que calcule la función de Ackermann.\n",
        "\n",
        "La función de Ackermann se define como:\n",
        "\n",
        "$$\n",
        "A(m, n) = \\begin{cases}\n",
        "              n + 1 & \\text{si } m = 0 \\\\\n",
        "              A(m - 1, 1) & \\text{si } m > 0 \\text{ y } n = 0 \\\\\n",
        "              A(m - 1, A(m, n - 1)) & \\text{si } m > 0 \\text{ y } n > 0\n",
        "          \\end{cases}\n",
        "$$\n",
        "\n",
        "Por ejemplo, `A(1, 2)` se calcula como:\n",
        "\n",
        "```python\n",
        "A(1, 2) = A(0, A(1, 1))\n",
        "A(1, 2) = A(0, A(0, A(1, 0)))\n",
        "A(1, 2) = A(0, A(0, A(0, 1)))\n",
        "A(1, 2) = A(0, A(0, 2))\n",
        "A(1, 2) = A(0, 3)\n",
        "A(1, 2) = 4\n",
        "```"
      ]
    },
    {
      "cell_type": "code",
      "execution_count": 11,
      "metadata": {
        "id": "WoGUWgfFzbl-",
        "colab": {
          "base_uri": "https://localhost:8080/"
        },
        "outputId": "dd14bb64-5840-47f2-c87b-5adeca29c393"
      },
      "outputs": [
        {
          "output_type": "execute_result",
          "data": {
            "text/plain": [
              "5"
            ]
          },
          "metadata": {},
          "execution_count": 11
        }
      ],
      "source": [
        "def Ac(m,n):\n",
        "  # caso base\n",
        "  if m==0:\n",
        "    return n+1\n",
        "  # caso recursivo\n",
        "  elif m>0 and n==0:\n",
        "    return Ac(m-1,1)\n",
        "  else:\n",
        "    return Ac(m-1,Ac(m,n-1))\n",
        "\n",
        "Ac(1,3)"
      ]
    }
  ],
  "metadata": {
    "kernelspec": {
      "display_name": "Fullstack",
      "language": "python",
      "name": "fullstack"
    },
    "language_info": {
      "codemirror_mode": {
        "name": "ipython",
        "version": 3
      },
      "file_extension": ".py",
      "mimetype": "text/x-python",
      "name": "python",
      "nbconvert_exporter": "python",
      "pygments_lexer": "ipython3",
      "version": "3.11.0"
    },
    "orig_nbformat": 4,
    "colab": {
      "provenance": []
    }
  },
  "nbformat": 4,
  "nbformat_minor": 0
}